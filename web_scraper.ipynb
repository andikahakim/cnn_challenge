{
 "cells": [
  {
   "cell_type": "code",
   "execution_count": null,
   "metadata": {},
   "outputs": [],
   "source": [
    "import os\n",
    "import shutil\n",
    "\n",
    "import json\n",
    "import requests \n",
    "import import urllib, urllib.request\n",
    "\n",
    "from PIL import Image, ImageFile\n",
    "from io import BytesIO\n",
    "\n",
    "import threading\n",
    "\n",
    "ImageFile.LOAD_TRUNCATED_IMAGES = True"
   ]
  },
  {
   "cell_type": "markdown",
   "metadata": {},
   "source": [
    "## Introduction\n",
    "\n",
    "- The code in this notebook is used to grab more images from the ImageNet database. It is based on the mapping.json file\n",
    "- This code is purely experimental and needs to be tested a bit more. However it does grab images and does have the potential to massively increase our dataset\n",
    "- Due to time constraints the scraper was written, but not used. We would definitely consider grabbing more data as a viable strategy to increase performance"
   ]
  },
  {
   "cell_type": "code",
   "execution_count": null,
   "metadata": {},
   "outputs": [],
   "source": [
    "def get_labels(fname):\n",
    "    \"\"\"\n",
    "    A function to grab the mappings from image class to label \n",
    "    Args:\n",
    "        fname (string): A string representing the filename of the mapping file\n",
    "        labels (list): returns a list of ImageNet labels based\n",
    "    \"\"\"\n",
    "    folder_to_class = None\n",
    "    labels = []\n",
    "    with open(fname, mode=\"r\") as f:\n",
    "        folder_to_class = json.load(f)\n",
    "    for label in folder_to_class:\n",
    "        labels.append(label)\n",
    "    return labels"
   ]
  },
  {
   "cell_type": "code",
   "execution_count": null,
   "metadata": {
    "scrolled": false
   },
   "outputs": [],
   "source": [
    "labels = get_labels('mapping.json')\n",
    "\n",
    "# where we want to store our new images\n",
    "new_image_path = 'new_images/'\n",
    "\n",
    "# make a place to hold our new images if it doesnt exist already\n",
    "if not os.path.isdir(new_image_path):\n",
    "    os.mkdir(new_image_path)\n",
    "\n",
    "# this is the base url that can help us get a list of urls based on ImageNets internal database\n",
    "URL = \"http://www.image-net.org/api/text/imagenet.synset.geturls\""
   ]
  },
  {
   "cell_type": "code",
   "execution_count": null,
   "metadata": {},
   "outputs": [],
   "source": [
    "# a small function to cleanup the new images in case we get too many and need more hard disk space\n",
    "def cleanup(new_image_path):\n",
    "    shutil.rmtree(new_image_path)"
   ]
  },
  {
   "cell_type": "code",
   "execution_count": null,
   "metadata": {
    "scrolled": true
   },
   "outputs": [],
   "source": [
    "# how many maximum extra images we want to grab per class\n",
    "limit = 50\n",
    "\n",
    "# this function goes through the ImageNet database of urls for a given label, and saves the images to drive\n",
    "def get_image(label):\n",
    "    path = new_image_path+label+'/'\n",
    "    \n",
    "    if not os.path.isdir(path):\n",
    "        os.mkdir(path)\n",
    "        \n",
    "    count = len(os.listdir(path))\n",
    "\n",
    "    if count >= limit:\n",
    "        return count\n",
    "\n",
    "    PARAMS = {'wnid': label}\n",
    "\n",
    "    r = requests.get(url = URL, params = PARAMS)\n",
    "    \n",
    "    # for each url in the imagenet database, grab the images\n",
    "    for i, url in enumerate(r.iter_lines()):\n",
    "        url = url.decode(\"utf-8\")\n",
    "        filepath = path+\"{}_{}.jpeg\".format(label, i)\n",
    "\n",
    "        if not os.path.isfile(filepath):  \n",
    "            \n",
    "            try:\n",
    "                response = requests.get(url)\n",
    "                data = response.raw.read()\n",
    "                data = BytesIO(data)\n",
    "                im = Image.open(BytesIO(response.content))      \n",
    "                im.thumbnail((64, 64))\n",
    "                im.save(filepath)\n",
    "                count += 1\n",
    "            except IOError as e:\n",
    "                continue\n",
    "        \n",
    "        if count >= limit:\n",
    "            break\n",
    "        \n",
    "    return count"
   ]
  },
  {
   "cell_type": "code",
   "execution_count": null,
   "metadata": {
    "scrolled": true
   },
   "outputs": [],
   "source": [
    "from concurrent.futures import ThreadPoolExecutor\n",
    "\n",
    "# to speed up the image grabbing, we can use threadpools\n",
    "with ThreadPoolExecutor(max_workers=50) as pool:\n",
    "    print(list(pool.map(get_image, labels)))"
   ]
  }
 ],
 "metadata": {
  "kernelspec": {
   "display_name": "Python 3",
   "language": "python",
   "name": "python3"
  },
  "language_info": {
   "codemirror_mode": {
    "name": "ipython",
    "version": 3
   },
   "file_extension": ".py",
   "mimetype": "text/x-python",
   "name": "python",
   "nbconvert_exporter": "python",
   "pygments_lexer": "ipython3",
   "version": "3.7.3"
  }
 },
 "nbformat": 4,
 "nbformat_minor": 4
}
